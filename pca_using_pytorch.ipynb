{
 "cells": [
  {
   "cell_type": "code",
   "execution_count": 12,
   "metadata": {},
   "outputs": [],
   "source": [
    "import numpy as np\n",
    "import torch\n",
    "import pickle\n",
    "import os "
   ]
  },
  {
   "cell_type": "code",
   "execution_count": 22,
   "metadata": {},
   "outputs": [],
   "source": [
    "def apply_pca(layer_out_list,pca_weights):\n",
    "    layer_out_pca = []\n",
    "    for layer,pca_weight in zip(layer_out_list,pca_weights):\n",
    "        mean = torch.from_numpy(pca_weight[\"mean\"])\n",
    "        scale = torch.from_numpy(pca_weight[\"scale\"])\n",
    "        components = torch.from_numpy(pca_weight[\"components\"])\n",
    "        \n",
    "        layer = layer.reshape((1,-1))\n",
    "        mean = mean.reshape((1,-1))\n",
    "        scale = scale.reshape((1,-1))\n",
    "        \n",
    "        layer = (layer - mean)/scale\n",
    "        pca_out = layer@(components.T)\n",
    "        layer_out_pca.append(pca_out)\n",
    "    return layer_out_pca"
   ]
  },
  {
   "cell_type": "code",
   "execution_count": 14,
   "metadata": {},
   "outputs": [
    {
     "data": {
      "text/plain": [
       "torch.Size([1, 2048, 4, 4, 4])"
      ]
     },
     "execution_count": 14,
     "metadata": {},
     "output_type": "execute_result"
    }
   ],
   "source": [
    "x = np.load('D:/Projects/Algonauts2020/Reconstruction/deep-image-prior/slowfast/1102_meta_R-5602303_250.npy', allow_pickle=True)\n",
    "x = x.item()\n",
    "x.keys()\n",
    "x['s5'][0].shape"
   ]
  },
  {
   "cell_type": "code",
   "execution_count": 17,
   "metadata": {},
   "outputs": [],
   "source": [
    "pca_dir = \"D:/Projects/Algonauts2020/Reconstruction/deep-image-prior/pca\"\n",
    "pca_weights = []\n",
    "s5_0_pca_file = os.path.join(pca_dir,\"s5_0_pca.pkl\")\n",
    "\n",
    "with open(s5_0_pca_file,'rb') as f:\n",
    "    pca = pickle.load(f, encoding='latin1')\n",
    "pca_weights.append(pca)\n",
    "\n",
    "s5_1_pca_file = os.path.join(pca_dir,\"s5_1_pca.pkl\")\n",
    "\n",
    "with open(s5_1_pca_file,'rb') as f:\n",
    "    pca = pickle.load(f, encoding='latin1')\n",
    "pca_weights.append(pca)"
   ]
  },
  {
   "cell_type": "code",
   "execution_count": 19,
   "metadata": {},
   "outputs": [
    {
     "name": "stdout",
     "output_type": "stream",
     "text": [
      "torch.Size([1, 1000]) torch.Size([1, 1000])\n",
      "tensor(-0.0732, dtype=torch.float64) tensor(53.1034, dtype=torch.float64) tensor(-81.7742, dtype=torch.float64)\n",
      "tensor(0.2300, dtype=torch.float64) tensor(31.4849, dtype=torch.float64) tensor(-15.5986, dtype=torch.float64)\n"
     ]
    }
   ],
   "source": [
    "layer_out_list = [x['s5'][0],x['s5'][1]]\n",
    "layer_out_pca =  apply_pca(layer_out_list,pca_weights)\n",
    "print(layer_out_pca[0].shape,layer_out_pca[1].shape)\n",
    "print(layer_out_pca[0].mean(),layer_out_pca[0].max(),layer_out_pca[0].min())\n",
    "print(layer_out_pca[1].mean(),layer_out_pca[1].max(),layer_out_pca[1].min())"
   ]
  },
  {
   "cell_type": "code",
   "execution_count": 26,
   "metadata": {},
   "outputs": [
    {
     "name": "stdout",
     "output_type": "stream",
     "text": [
      "(1, 1000) -0.0731600626685671 53.10343442164182 -81.77419436300725\n",
      "(1, 1000) 0.23004751473769353 31.48488485177332 -15.598611820418393\n"
     ]
    }
   ],
   "source": [
    "s5_0_pca = np.load(os.path.join(pca_dir,\"test_s5_0.npy\"))\n",
    "print(s5_0_pca[-1:].shape,s5_0_pca[-1:].mean(),s5_0_pca[-1:].max(),s5_0_pca[-1:].min())\n",
    "s5_1_pca = np.load(os.path.join(pca_dir,\"test_s5_1.npy\"))\n",
    "print(s5_1_pca[-1:].shape,s5_1_pca[-1:].mean(),s5_1_pca[-1:].max(),s5_1_pca[-1:].min())"
   ]
  },
  {
   "cell_type": "code",
   "execution_count": 27,
   "metadata": {},
   "outputs": [
    {
     "name": "stdout",
     "output_type": "stream",
     "text": [
      "torch.Size([1, 100]) torch.Size([1, 100])\n",
      "tensor(-0.4760, dtype=torch.float64) tensor(53.1034, dtype=torch.float64) tensor(-81.7742, dtype=torch.float64)\n",
      "tensor(1.0536, dtype=torch.float64) tensor(31.4849, dtype=torch.float64) tensor(-15.5986, dtype=torch.float64)\n"
     ]
    }
   ],
   "source": [
    "layer_out_list = [x['s5'][0],x['s5'][1]]\n",
    "layer_out_pca =  apply_pca(layer_out_list,pca_weights)\n",
    "print(layer_out_pca[0].shape,layer_out_pca[1].shape)\n",
    "print(layer_out_pca[0].mean(),layer_out_pca[0].max(),layer_out_pca[0].min())\n",
    "print(layer_out_pca[1].mean(),layer_out_pca[1].max(),layer_out_pca[1].min())"
   ]
  },
  {
   "cell_type": "code",
   "execution_count": 28,
   "metadata": {},
   "outputs": [
    {
     "name": "stdout",
     "output_type": "stream",
     "text": [
      "(100,) -0.47598871673545573 53.10343442164182 -81.77419436300725\n",
      "(100,) 1.0536143507537445 31.48488485177332 -15.598611820418393\n"
     ]
    }
   ],
   "source": [
    "s5_0_pca = np.load(os.path.join(pca_dir,\"test_s5_0.npy\"))\n",
    "print(s5_0_pca[-1,:100].shape,s5_0_pca[-1,:100].mean(),s5_0_pca[-1,:100].max(),s5_0_pca[-1,:100].min())\n",
    "s5_1_pca = np.load(os.path.join(pca_dir,\"test_s5_1.npy\"))\n",
    "print(s5_1_pca[-1,:100].shape,s5_1_pca[-1,:100].mean(),s5_1_pca[-1,:100].max(),s5_1_pca[-1,:100].min())"
   ]
  }
 ],
 "metadata": {
  "kernelspec": {
   "display_name": "AG_video_models",
   "language": "python",
   "name": "ag_video_models"
  },
  "language_info": {
   "codemirror_mode": {
    "name": "ipython",
    "version": 3
   },
   "file_extension": ".py",
   "mimetype": "text/x-python",
   "name": "python",
   "nbconvert_exporter": "python",
   "pygments_lexer": "ipython3",
   "version": "3.6.10"
  }
 },
 "nbformat": 4,
 "nbformat_minor": 2
}
